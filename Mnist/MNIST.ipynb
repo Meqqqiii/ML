{
  "nbformat": 4,
  "nbformat_minor": 0,
  "metadata": {
    "colab": {
      "provenance": []
    },
    "kernelspec": {
      "name": "python3",
      "display_name": "Python 3"
    },
    "language_info": {
      "name": "python"
    }
  },
  "cells": [
    {
      "cell_type": "markdown",
      "source": [
        "**Let's start with the imports needed for this project**"
      ],
      "metadata": {
        "id": "aUkHetsu55un"
      }
    },
    {
      "cell_type": "code",
      "execution_count": null,
      "metadata": {
        "id": "2PkmmVi77H6R"
      },
      "outputs": [],
      "source": [
        "import numpy as np\n",
        "import matplotlib as plt\n",
        "%matplotlib inline\n",
        "import time\n",
        "import csv"
      ]
    },
    {
      "cell_type": "markdown",
      "source": [
        "In this code, the `convert` function is used to convert MNIST data into a CSV format. It takes four inputs: `imgf` (image file), `labelf` (label file), `outf` (output file), and `n` (number of images).\n",
        "\n",
        "The image and label files are opened in binary mode, and the output file in write mode. The function skips the first 16 bytes of the image file and 8 bytes of the label file, as they contain metadata.\n",
        "\n",
        "For each of the `n` images, the function reads one byte from the label file (the digit label) and 784 bytes from the image file (28x28 pixel values), storing them in a list. This data is collected in the `images` list.\n",
        "\n",
        "Once all images are processed, the function writes each image's label and pixel data to the CSV file as a comma-separated string. Finally, all files are closed. This allows the MNIST dataset to be saved in a readable CSV format for further use."
      ],
      "metadata": {
        "id": "7nvqpo1C6F-d"
      }
    },
    {
      "cell_type": "code",
      "source": [
        "def convert(imgf, labelf, outf, n):\n",
        "    f = open(imgf, \"rb\")\n",
        "    o = open(outf, \"w\")\n",
        "    l = open(labelf, \"rb\")\n",
        "\n",
        "    f.read(16)\n",
        "    l.read(8)\n",
        "    images = []\n",
        "\n",
        "    for i in range(n):\n",
        "        image = [ord(l.read(1))]\n",
        "        for j in range(28*28):\n",
        "            image.append(ord(f.read(1)))\n",
        "        images.append(image)\n",
        "\n",
        "    for image in images:\n",
        "        o.write(\",\".join(str(pix) for pix in image)+\"\\n\")\n",
        "    f.close()\n",
        "    o.close()\n",
        "    l.close()"
      ],
      "metadata": {
        "id": "cgF34J_fvUsq"
      },
      "execution_count": null,
      "outputs": []
    },
    {
      "cell_type": "code",
      "source": [
        "convert(\"/content/data/train-images.idx3-ubyte\", \"/content/data/train-labels.idx1-ubyte\",\n",
        "        \"/content/data/train.csv\", 60000)\n",
        "convert(\"/content/data/t10k-images.idx3-ubyte\", \"/content/data/t10k-labels.idx1-ubyte\",\n",
        "        \"/content/data/test.csv\", 10000)"
      ],
      "metadata": {
        "id": "faDuAk6Jva2X"
      },
      "execution_count": null,
      "outputs": []
    },
    {
      "cell_type": "code",
      "source": [
        "test_file = open(\"/content/data/test.csv\", \"r\")\n",
        "test_list = test_file.readlines()\n",
        "test_file.close()\n",
        "\n",
        "\n",
        "all_values = test_list[100].split(',')\n",
        "image_array = np.asfarray(all_values[1:]).reshape((28,28))\n",
        "plt.pyplot.imshow(image_array, cmap='Greys', interpolation='None')"
      ],
      "metadata": {
        "colab": {
          "base_uri": "https://localhost:8080/",
          "height": 447
        },
        "id": "sDe62DIHva4D",
        "outputId": "e062f92d-2675-473e-8196-92c953e0217d"
      },
      "execution_count": null,
      "outputs": [
        {
          "output_type": "execute_result",
          "data": {
            "text/plain": [
              "<matplotlib.image.AxesImage at 0x7e3aefe3b1c0>"
            ]
          },
          "metadata": {},
          "execution_count": 104
        },
        {
          "output_type": "display_data",
          "data": {
            "text/plain": [
              "<Figure size 640x480 with 1 Axes>"
            ],
            "image/png": "[encoded data removed]"
          },
          "metadata": {}
        }
      ]
    },
    {
      "cell_type": "code",
      "source": [
        "train_file = open(\"/content/data/train.csv\", \"r\")\n",
        "train_list = train_file.readlines()\n",
        "train_file.close()\n",
        "\n",
        "values = train_list[100].split(\",\")\n",
        "image_array = np.asfarray(values[1:]).reshape((28,28))\n",
        "plt.pyplot.imshow(image_array, cmap=\"Greys\", interpolation =\"None\")\n"
      ],
      "metadata": {
        "colab": {
          "base_uri": "https://localhost:8080/",
          "height": 447
        },
        "id": "wUQPaOXh492F",
        "outputId": "899f657c-716f-4b12-bdf0-0d543d1abed9"
      },
      "execution_count": null,
      "outputs": [
        {
          "output_type": "execute_result",
          "data": {
            "text/plain": [
              "<matplotlib.image.AxesImage at 0x7e3aefec1450>"
            ]
          },
          "metadata": {},
          "execution_count": 105
        },
        {
          "output_type": "display_data",
          "data": {
            "text/plain": [
              "<Figure size 640x480 with 1 Axes>"
            ],
            "image/png": "[encoded data removed]"
          },
          "metadata": {}
        }
      ]
    },
    {
      "cell_type": "code",
      "source": [
        "print(len(test_list),len(train_list))"
      ],
      "metadata": {
        "colab": {
          "base_uri": "https://localhost:8080/"
        },
        "id": "lfrceW-ITazV",
        "outputId": "82027a93-1fc9-48b6-bc46-1bb9d0d6202e"
      },
      "execution_count": null,
      "outputs": [
        {
          "output_type": "stream",
          "name": "stdout",
          "text": [
            "10000 60000\n"
          ]
        }
      ]
    },
    {
      "cell_type": "markdown",
      "source": [
        "# **Class Definition**\n",
        "The DNN class implements a deep neural network for classification tasks. It takes three parameters:\n",
        "\n",
        "sizes : defines the number of neurons in each layer.\n",
        "epochs: the number of training iterations.\n",
        "lr: the learning rate for weight updates.\n",
        "Initialization\n",
        "In the __init__ method, random weights are initialized for each layer using Xavier initialization, based on the sizes provided.\n",
        "\n",
        "# **Activation Functions**\n",
        "Sigmoid: Computes the sigmoid activation and its derivative.\n",
        "Softmax: Computes the softmax activation and its derivative for multi-class classification.\n",
        "Forward Pass\n",
        "The forward_pass method calculates the weighted sums and activations for each layer, returning the output from the final softmax layer.\n",
        "\n",
        "# **Backward Pass**\n",
        "The backward_pass method computes gradients of the loss with respect to each layer’s weights, using the chain rule and derivatives, and returns the necessary weight updates.\n",
        "\n",
        "# **Weight Update**\n",
        "The update_weights method updates the weights using the computed changes and the learning rate.\n",
        "\n",
        "# **Accuracy Calculation**\n",
        "The compute_accuracy method evaluates the model on the test dataset, returning the overall accuracy by comparing predicted outputs to true labels.\n",
        "\n",
        "# **Training the Model**\n",
        "The train method iterates over the epochs, performing forward and backward passes for each training example, updating weights, and printing the training accuracy after each epoch.\n",
        "\n",
        "## I**nstantiation**\n",
        "Finally, an instance of the DNN class is created with specified parameters, and the training process is initiated with the provided datasets."
      ],
      "metadata": {
        "id": "usbvXFhNE2vt"
      }
    },
    {
      "cell_type": "code",
      "source": [
        "class DNN:\n",
        "\n",
        "  def __init__(self, sizes, epochs, lr ):\n",
        "    self.sizes = sizes\n",
        "    self.epochs = epochs\n",
        "    self.lr = lr\n",
        "\n",
        "    input_layer = self.sizes[0]\n",
        "    hidden_1 = self.sizes[1]\n",
        "    hidden_2 = self.sizes[2]\n",
        "    output_layer = self.sizes[3]\n",
        "\n",
        "    self.params = {\n",
        "        \"W1\":np.random.rand(hidden_1, input_layer) * np.sqrt(1./hidden_1),\n",
        "        \"W2\":np.random.rand(hidden_2, hidden_1) * np.sqrt(1./hidden_2),\n",
        "        \"W3\":np.random.rand(output_layer, hidden_2)*np.sqrt(1./output_layer)\n",
        "    }\n",
        "\n",
        "  def sigmoid(self, x ,derivative = False):\n",
        "    if derivative:\n",
        "      return(np.exp(-x))/((np.exp(-x)+1)**2)\n",
        "    return 1/(1+np.exp(-x))\n",
        "\n",
        "  def softmax(self, x, derivative= False):\n",
        "    exps = np.exp(x-x.max())\n",
        "    if derivative:\n",
        "      return exps/ np.sum(exps, axis =0) * (1- exps/np.sum(exps,axis =0))\n",
        "    return exps/np.sum(exps, axis =0)\n",
        "\n",
        "  def forward_pass(self, X_train):\n",
        "    params = self.params\n",
        "\n",
        "    params[\"A0\"] = X_train\n",
        "\n",
        "    params[\"Z1\"] = np.dot(params[\"W1\"],params[\"A0\"])\n",
        "    params[\"A1\"] = self.sigmoid(params[\"Z1\"])\n",
        "\n",
        "    params[\"Z2\"] = np.dot(params[\"W2\"], params[\"A1\"])\n",
        "    params[\"A2\"] = self.sigmoid(params[\"Z2\"])\n",
        "\n",
        "    params[\"Z3\"] = np.dot(params[\"W3\"],params[\"A2\"])\n",
        "    params[\"A3\"] = self.softmax(params[\"Z3\"])\n",
        "\n",
        "    return params[\"A3\"]\n",
        "\n",
        "  def backward_pass(self, y_train, output):\n",
        "    params = self.params\n",
        "\n",
        "    change_w = {}\n",
        "\n",
        "    error = 2 * (output - y_train) / output.shape[0] * self.softmax(params[\"Z3\"], derivative = True)\n",
        "    change_w[\"W3\"] = np.outer(error, params[\"A2\"])\n",
        "\n",
        "    error = np.dot(params[\"W3\"].T ,error) * self.sigmoid(params[\"Z2\"], derivative = True)\n",
        "    change_w[\"W2\"] = np.outer(error,params[\"A1\"])\n",
        "\n",
        "    error = np.dot(params[\"W2\"].T ,error) * self.sigmoid(params[\"Z1\"], derivative = True)\n",
        "    change_w[\"W1\"] = np.outer(error,params[\"A0\"])\n",
        "\n",
        "    return change_w\n",
        "\n",
        "  def update_weights(self,change_w):\n",
        "    for key,val in change_w.items():\n",
        "      self.params[key] -= self.lr * val\n",
        "  def compute_accuracy(self, test_data,output_nodes):\n",
        "    predictions = []\n",
        "    for x in test_data:\n",
        "      values = x.split(\",\")\n",
        "      inputs = (np.asfarray(values[1:])/255.0 * 0.99) + 0.01\n",
        "      targets = np.zeros(10) + 0.01\n",
        "      targets[int(values[0])] = 0.99\n",
        "      output = self.forward_pass(inputs)\n",
        "      pred = np.argmax(output)\n",
        "      predictions.append(pred == np.argmax(targets))\n",
        "    return np.mean(predictions)\n",
        "\n",
        "\n",
        "  def train(self,train_list, test_list):\n",
        "    for i in range(self.epochs):\n",
        "      start_time = time.time()\n",
        "      for x in train_list:\n",
        "        values = x.split(\",\")\n",
        "        inputs = (np.asfarray(values[1:])/255.0 * 0.99 )+ 0.01\n",
        "        targets = np.zeros(10) + 0.01\n",
        "        targets[int(values[0])] = 0.99\n",
        "        output = self.forward_pass(inputs)\n",
        "        change_w = self.backward_pass(targets,output)\n",
        "        self.update_weights(change_w)\n",
        "      accuracy = self.compute_accuracy(test_list,output)\n",
        "      print(\"Epoch: {0} Time Spent: {1:.02f}s, Accuracy: {2:.2f}%\".format(i+1, time.time()-start_time, accuracy*100) )\n",
        "\n",
        "\n",
        "dnn = DNN(sizes=[784, 128, 64, 10 ], epochs = 10, lr = 0.001)\n",
        "dnn.train(train_list, test_list)\n",
        "\n",
        "\n",
        "\n",
        "\n"
      ],
      "metadata": {
        "colab": {
          "base_uri": "https://localhost:8080/"
        },
        "id": "5JIoFkM5QRft",
        "outputId": "39a14008-4d26-4a50-b8e0-8eae4d3d61c5"
      },
      "execution_count": null,
      "outputs": [
        {
          "output_type": "stream",
          "name": "stdout",
          "text": [
            "Epoch: 1 Time Spent: 98.19s, Accuracy: 10.28%\n",
            "Epoch: 2 Time Spent: 94.87s, Accuracy: 11.26%\n",
            "Epoch: 3 Time Spent: 99.21s, Accuracy: 11.27%\n",
            "Epoch: 4 Time Spent: 98.65s, Accuracy: 11.27%\n",
            "Epoch: 5 Time Spent: 99.22s, Accuracy: 11.28%\n",
            "Epoch: 6 Time Spent: 98.44s, Accuracy: 11.28%\n",
            "Epoch: 7 Time Spent: 99.45s, Accuracy: 11.28%\n",
            "Epoch: 8 Time Spent: 100.03s, Accuracy: 11.28%\n",
            "Epoch: 9 Time Spent: 98.38s, Accuracy: 11.28%\n",
            "Epoch: 10 Time Spent: 95.31s, Accuracy: 11.29%\n"
          ]
        }
      ]
    },
    {
      "cell_type": "code",
      "source": [],
      "metadata": {
        "id": "31JGP61_U_w7"
      },
      "execution_count": null,
      "outputs": []
    }
  ]
}